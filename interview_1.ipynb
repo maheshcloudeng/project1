{
 "cells": [
  {
   "cell_type": "code",
   "execution_count": 1,
   "id": "c1b45fab",
   "metadata": {},
   "outputs": [
    {
     "name": "stdout",
     "output_type": "stream",
     "text": [
      "[6, 5, 4, 3, 2, 1]\n"
     ]
    }
   ],
   "source": [
    "list=[1,2,3,4,5,6]\n",
    "list.sort(reverse=True)\n",
    "print(list)"
   ]
  },
  {
   "cell_type": "code",
   "execution_count": 2,
   "id": "cc4fa5d6",
   "metadata": {},
   "outputs": [
    {
     "name": "stdout",
     "output_type": "stream",
     "text": [
      "[1, 3, 5, 7, 8]\n"
     ]
    }
   ],
   "source": [
    "list=[1,3,7,8,5]\n",
    "list.sort()\n",
    "print(list)"
   ]
  },
  {
   "cell_type": "code",
   "execution_count": 3,
   "id": "131a0254",
   "metadata": {},
   "outputs": [
    {
     "name": "stdout",
     "output_type": "stream",
     "text": [
      "1\n",
      "2\n",
      "3\n",
      "5\n",
      "7\n"
     ]
    }
   ],
   "source": [
    "for num in range(1,10):\n",
    "    if all(num%i!=0 for i in range(2,num)):\n",
    "        print(num)"
   ]
  },
  {
   "cell_type": "code",
   "execution_count": 4,
   "id": "0cef1f54",
   "metadata": {},
   "outputs": [
    {
     "name": "stdout",
     "output_type": "stream",
     "text": [
      "7\n",
      "5\n",
      "3\n",
      "2\n",
      "1\n"
     ]
    }
   ],
   "source": [
    "for num in range(10,0,-1):\n",
    "    if all (num%i!=0 for i in range (2,num)):\n",
    "        print(num)"
   ]
  },
  {
   "cell_type": "code",
   "execution_count": 6,
   "id": "f6f34871",
   "metadata": {},
   "outputs": [
    {
     "name": "stdout",
     "output_type": "stream",
     "text": [
      "[60, 50, 40]\n",
      "[30, 20, 10]\n"
     ]
    }
   ],
   "source": [
    "##slicing##\n",
    "list=[10,20,30,40,50,60]\n",
    "x1=list[2::-1]\n",
    "x2=list[-3:][::-1]\n",
    "print(x2)\n",
    "print(x1)"
   ]
  },
  {
   "cell_type": "code",
   "execution_count": 7,
   "id": "b5b62e9e",
   "metadata": {},
   "outputs": [
    {
     "name": "stdout",
     "output_type": "stream",
     "text": [
      "['Python', 'R', 'C#', 'Java']\n"
     ]
    }
   ],
   "source": [
    "students = ['Python', 'R', 'C#', 'Python', 'R', 'Java']\n",
    "new_list = []\n",
    "for one_student_choice in students:\n",
    "    if one_student_choice not in new_list:\n",
    "        new_list.append(one_student_choice)\n",
    "print(new_list)"
   ]
  },
  {
   "cell_type": "code",
   "execution_count": 8,
   "id": "292f58eb",
   "metadata": {},
   "outputs": [
    {
     "name": "stdout",
     "output_type": "stream",
     "text": [
      "[1, 2, 3]\n"
     ]
    }
   ],
   "source": [
    "list=[1,2,3,2,3]\n",
    "list2=[]\n",
    "for list3 in list:\n",
    "    if list3 not in list2:\n",
    "        list2.append(list3)\n",
    "print(list2)"
   ]
  },
  {
   "cell_type": "code",
   "execution_count": 9,
   "id": "66a547e0",
   "metadata": {},
   "outputs": [
    {
     "name": "stdout",
     "output_type": "stream",
     "text": [
      "[1, 2, 3, 4, 5]\n",
      "[1, 5, 2, 3, 4, 5]\n",
      "[1, 5, 2, 3, 4, 5, 5, 6]\n"
     ]
    }
   ],
   "source": [
    "list=[1,2,3,4]\n",
    "list2=[5,6]\n",
    "list.append(5)\n",
    "print(list)\n",
    "list.insert(1,5)\n",
    "print(list)\n",
    "list.extend(list2)\n",
    "print(list)"
   ]
  },
  {
   "cell_type": "code",
   "execution_count": 10,
   "id": "a22a471a",
   "metadata": {},
   "outputs": [
    {
     "name": "stdout",
     "output_type": "stream",
     "text": [
      "[1, 2, 3]\n",
      "[4, 5, 6]\n"
     ]
    }
   ],
   "source": [
    "list=[1,2,3,4,5,6]\n",
    "x1=slice(0,3)\n",
    "print(list[x1])\n",
    "x2=slice(3,6)\n",
    "print(list[x2])"
   ]
  },
  {
   "cell_type": "code",
   "execution_count": 11,
   "id": "5431a6ee",
   "metadata": {},
   "outputs": [
    {
     "name": "stdout",
     "output_type": "stream",
     "text": [
      "[10, 20, 30, 40, 50, 60, 70, 80, 90]\n"
     ]
    }
   ],
   "source": [
    "regular_list=[[10,20,30],[40,50,60],[70,80,90]]\n",
    "a=sum(regular_list,[])\n",
    "print(a)"
   ]
  },
  {
   "cell_type": "code",
   "execution_count": 5,
   "id": "60c82d34",
   "metadata": {},
   "outputs": [
    {
     "name": "stdout",
     "output_type": "stream",
     "text": [
      "hellopython31\n"
     ]
    }
   ],
   "source": [
    "import re\n",
    "s=\"hello@# python31$\"\n",
    "s1=re.sub(\"[^A-Za-z-0-9]\",\"\",s)\n",
    "print(s1)"
   ]
  },
  {
   "cell_type": "code",
   "execution_count": 13,
   "id": "1a8e159d",
   "metadata": {},
   "outputs": [
    {
     "name": "stdout",
     "output_type": "stream",
     "text": [
      "12\n"
     ]
    }
   ],
   "source": [
    "s=\"hello python\"\n",
    "print(len(s))"
   ]
  },
  {
   "cell_type": "code",
   "execution_count": 14,
   "id": "67db7be5",
   "metadata": {},
   "outputs": [
    {
     "name": "stdout",
     "output_type": "stream",
     "text": [
      "['e', 'o', 'o']\n"
     ]
    }
   ],
   "source": [
    "s=\"hello python\"\n",
    "v=(\"a\",\"e\",\"i\",\"o\",\"u\")\n",
    "print([c for c in s if c in v]) "
   ]
  },
  {
   "cell_type": "code",
   "execution_count": 15,
   "id": "c1fe9d1a",
   "metadata": {},
   "outputs": [
    {
     "name": "stdout",
     "output_type": "stream",
     "text": [
      "e\n",
      "o\n",
      "o\n"
     ]
    }
   ],
   "source": [
    "sentence = \"hello python\"\n",
    "for x in sentence:\n",
    "    if x in 'aeiou':\n",
    "        print(x)"
   ]
  },
  {
   "cell_type": "code",
   "execution_count": 16,
   "id": "2e741ec3",
   "metadata": {},
   "outputs": [
    {
     "name": "stdout",
     "output_type": "stream",
     "text": [
      "a\n",
      "i\n",
      "a\n",
      "i\n"
     ]
    }
   ],
   "source": [
    "name=\"Bandi Ranjith\"\n",
    "for i in name:\n",
    "    if i in 'aeiou':\n",
    "        print(i)"
   ]
  },
  {
   "cell_type": "code",
   "execution_count": 17,
   "id": "bf39ed4c",
   "metadata": {},
   "outputs": [
    {
     "name": "stdout",
     "output_type": "stream",
     "text": [
      "11-nov-2022\n"
     ]
    }
   ],
   "source": [
    "## Spilt ##\n",
    "x=\"sales_asp_11-nov-2022.csv\"\n",
    "a=x.split(\"_\")[2].split(\".\")[0]\n",
    "print(a)"
   ]
  },
  {
   "cell_type": "code",
   "execution_count": 18,
   "id": "10da4835",
   "metadata": {},
   "outputs": [
    {
     "name": "stdout",
     "output_type": "stream",
     "text": [
      "[4, 9, 25, 49]\n"
     ]
    }
   ],
   "source": [
    "list=[2,3,5,7]\n",
    "list=[x**2 for x  in list]\n",
    "print(list)"
   ]
  },
  {
   "cell_type": "code",
   "execution_count": null,
   "id": "6c79c5e9",
   "metadata": {},
   "outputs": [],
   "source": [
    "l=[3,6,9,12]\n",
    "l2=list(map(lambda x:x/3,l))\n",
    "print(l2)"
   ]
  },
  {
   "cell_type": "code",
   "execution_count": null,
   "id": "c64364e1",
   "metadata": {},
   "outputs": [],
   "source": [
    "import numpy\n",
    "regular_list = [[1, 2, 3, 4], [5, 6, 7], [8, 9]]\n",
    "flat_list = list(numpy.concatenate(regular_list).flat)\n",
    "print('Original list', regular_list)\n",
    "print( flat_list) "
   ]
  },
  {
   "cell_type": "code",
   "execution_count": 21,
   "id": "fc98d187",
   "metadata": {},
   "outputs": [
    {
     "name": "stdout",
     "output_type": "stream",
     "text": [
      "['my', 'name', 'is', 'ranjith']\n"
     ]
    }
   ],
   "source": [
    "string=\"my-name-is-ranjith\"\n",
    "x1=string.split(\"-\")\n",
    "print(x1)"
   ]
  },
  {
   "cell_type": "code",
   "execution_count": null,
   "id": "4f17a653",
   "metadata": {},
   "outputs": [],
   "source": [
    "from nltk import flatten\n",
    "example_list = [1, [2, 3], 3]\n",
    "flattened_list = flatten(example_list)\n",
    "print(flattened_list)"
   ]
  },
  {
   "cell_type": "code",
   "execution_count": 23,
   "id": "08fc1233",
   "metadata": {},
   "outputs": [
    {
     "name": "stdout",
     "output_type": "stream",
     "text": [
      "dict_values(['5', '3', '5'])\n"
     ]
    }
   ],
   "source": [
    "dictionary = {\"geeks\": \"5\", \"for\": \"3\", \"Geeks\": \"5\"}\n",
    "print(dictionary.values())"
   ]
  },
  {
   "cell_type": "code",
   "execution_count": 24,
   "id": "b3ee5249",
   "metadata": {},
   "outputs": [
    {
     "name": "stdout",
     "output_type": "stream",
     "text": [
      "dict_keys(['geeks', 'for', 'Geeks'])\n"
     ]
    }
   ],
   "source": [
    "dictionary = {\"geeks\": \"5\", \"for\": \"3\", \"Geeks\": \"5\"}\n",
    "print(dictionary.keys())"
   ]
  },
  {
   "cell_type": "code",
   "execution_count": 25,
   "id": "0d831404",
   "metadata": {},
   "outputs": [
    {
     "name": "stdout",
     "output_type": "stream",
     "text": [
      "adic\n"
     ]
    }
   ],
   "source": [
    "def get_key(val):\n",
    "    for key,value in dict.items():\n",
    "        if val==value:\n",
    "            return key\n",
    "dict={1:2,\"adic\" : {\"key\":\"val\"},\"role\":\"sse\"}\n",
    "print(get_key({\"key\":\"val\"}))"
   ]
  },
  {
   "cell_type": "code",
   "execution_count": null,
   "id": "7e673341",
   "metadata": {},
   "outputs": [],
   "source": [
    "dict={1:2,\"adic\" : {\"key\":\"val\"},\"role\":\"sse\"} \n",
    "print(dict[\"adic\"])\n"
   ]
  },
  {
   "cell_type": "code",
   "execution_count": 26,
   "id": "d349d775",
   "metadata": {},
   "outputs": [
    {
     "name": "stdout",
     "output_type": "stream",
     "text": [
      "{1, 2, 3, 4}\n"
     ]
    }
   ],
   "source": [
    "l1=[1,2,3]\n",
    "l2=[3,4,3]\n",
    "print(set(l1+l2))"
   ]
  },
  {
   "cell_type": "code",
   "execution_count": 27,
   "id": "83883f5a",
   "metadata": {},
   "outputs": [
    {
     "name": "stdout",
     "output_type": "stream",
     "text": [
      "{1, 2, 3, 4}\n"
     ]
    }
   ],
   "source": [
    "l1=[1,2,3,4,1,2]\n",
    "print(set(l1))"
   ]
  },
  {
   "cell_type": "code",
   "execution_count": null,
   "id": "bb338bad",
   "metadata": {},
   "outputs": [],
   "source": [
    "mylist = [\"a\", \"b\", \"a\", \"c\", \"c\"]\n",
    "mylist = list(dict.fromkeys(mylist))\n",
    "print(mylist)"
   ]
  },
  {
   "cell_type": "code",
   "execution_count": 30,
   "id": "4b0c7592",
   "metadata": {},
   "outputs": [
    {
     "name": "stdout",
     "output_type": "stream",
     "text": [
      "the number is even\n"
     ]
    }
   ],
   "source": [
    "num=21\n",
    "if (num %2)==0:\n",
    "        print(\"the number is odd\")\n",
    "else:\n",
    "        print(\"the number is even\")"
   ]
  },
  {
   "cell_type": "code",
   "execution_count": null,
   "id": "38f1b6fa",
   "metadata": {},
   "outputs": [],
   "source": [
    "num=int(input(\"enter the number :\")\n",
    "if (num %2)==0:\n",
    "        print(\"the number is odd\")\n",
    "else:\n",
    "        print(\"the number is even\")"
   ]
  },
  {
   "cell_type": "code",
   "execution_count": 32,
   "id": "a63da64e",
   "metadata": {},
   "outputs": [
    {
     "name": "stdout",
     "output_type": "stream",
     "text": [
      "5\n"
     ]
    }
   ],
   "source": [
    "dict={\"a\":1,\"b\":5,\"c\":6}\n",
    "print(dict.get(\"b\"))"
   ]
  },
  {
   "cell_type": "code",
   "execution_count": 33,
   "id": "6a975d78",
   "metadata": {},
   "outputs": [
    {
     "name": "stdout",
     "output_type": "stream",
     "text": [
      "[1, 2, 3, 4, 5, 6, 8]\n"
     ]
    }
   ],
   "source": [
    "## To create a new list in c ##\n",
    "a=[1,2,3,4,5]\n",
    "b=[3,4,5,6,8]\n",
    "c=a.copy()\n",
    "for y in b:\n",
    "\tif y not in c:\n",
    "            c.append(y)\n",
    "print(c)"
   ]
  },
  {
   "cell_type": "code",
   "execution_count": 11,
   "id": "bccc73d9",
   "metadata": {},
   "outputs": [
    {
     "name": "stdout",
     "output_type": "stream",
     "text": [
      "[1, 2, 3, 4, 5, 6, 8]\n"
     ]
    }
   ],
   "source": [
    "a=[1,2,3,4,5]\n",
    "b=[3,4,5,6,8]\n",
    "c=[]\n",
    "for x in a:\n",
    "    if x not in c:\n",
    "        c.append(x)\n",
    "for y in b:\n",
    "    if y not in c:\n",
    "        c.append(y)\n",
    "print(c)                "
   ]
  },
  {
   "cell_type": "code",
   "execution_count": 34,
   "id": "ed42b2e2",
   "metadata": {},
   "outputs": [
    {
     "name": "stdout",
     "output_type": "stream",
     "text": [
      "10\n"
     ]
    }
   ],
   "source": [
    "list1 = [3, 2, 8, 5, 10, 6]\n",
    "print(max(list1))"
   ]
  },
  {
   "cell_type": "code",
   "execution_count": 35,
   "id": "49c1befb",
   "metadata": {},
   "outputs": [
    {
     "name": "stdout",
     "output_type": "stream",
     "text": [
      "2\n"
     ]
    }
   ],
   "source": [
    "list1 = [3, 2, 8, 5, 10, 6]\n",
    "print(min(list1))"
   ]
  },
  {
   "cell_type": "code",
   "execution_count": 37,
   "id": "e0451c69",
   "metadata": {},
   "outputs": [
    {
     "name": "stdout",
     "output_type": "stream",
     "text": [
      "6\n"
     ]
    }
   ],
   "source": [
    "a = [1,2,3,5,6]\n",
    "print(max(a, key=lambda value: int(value)) )"
   ]
  },
  {
   "cell_type": "code",
   "execution_count": 38,
   "id": "1a957e6c",
   "metadata": {},
   "outputs": [
    {
     "name": "stdout",
     "output_type": "stream",
     "text": [
      "1\n"
     ]
    }
   ],
   "source": [
    "valuesList = [1,2,3,5,6]\n",
    "print(min(valuesList, key=lambda value: int(value)) )"
   ]
  },
  {
   "cell_type": "code",
   "execution_count": 39,
   "id": "a5f831f2",
   "metadata": {},
   "outputs": [
    {
     "name": "stdout",
     "output_type": "stream",
     "text": [
      "[1, 2, 4, 0, 0, 0]\n"
     ]
    }
   ],
   "source": [
    "l=[1,0,2,0,4,0]\n",
    "w=[]\n",
    "for i in l:\n",
    "    if i!=0:\n",
    "        w.append(i)\n",
    "for j in l:\n",
    "    if j==0:\n",
    "        w.append(j)\n",
    "print(w)"
   ]
  },
  {
   "cell_type": "code",
   "execution_count": 40,
   "id": "4a187750",
   "metadata": {},
   "outputs": [
    {
     "name": "stdout",
     "output_type": "stream",
     "text": [
      "[1, 2, 4]\n",
      "[0, 0, 0]\n"
     ]
    }
   ],
   "source": [
    "l=[1,0,2,0,4,0]\n",
    "w=[]\n",
    "w2=[]\n",
    "for i in l:\n",
    "    if i!=0:\n",
    "        w.append(i)\n",
    "for j in l:\n",
    "    if j==0:\n",
    "        w2.append(j)\n",
    "print(w) \n",
    "print(w2)"
   ]
  },
  {
   "cell_type": "code",
   "execution_count": null,
   "id": "38b61a4b",
   "metadata": {},
   "outputs": [],
   "source": [
    "input = [200]\n",
    "# Using map\n",
    "output = list(map(int, str(input[0])))\n",
    "# Printing output\n",
    "print(output)"
   ]
  },
  {
   "cell_type": "code",
   "execution_count": 45,
   "id": "43edcfae",
   "metadata": {},
   "outputs": [],
   "source": [
    "input='p','y','t','h','o','n'\n",
    "s=list(input)\n",
    "res=''.join(s)\n",
    "print(res)"
   ]
  },
  {
   "cell_type": "code",
   "execution_count": null,
   "id": "7c6bbdf7",
   "metadata": {},
   "outputs": [],
   "source": [
    "input = ['p', 'y', 't', 'h', 'o', 'n']\n",
    "output = ''.join(input)\n",
    "print(output)\n"
   ]
  },
  {
   "cell_type": "code",
   "execution_count": 54,
   "id": "86f7e527",
   "metadata": {},
   "outputs": [
    {
     "name": "stdout",
     "output_type": "stream",
     "text": [
      "{1, 2, 3, 4, 5}\n"
     ]
    }
   ],
   "source": [
    "a=[1,2,3,3,4,4,5]\n",
    "b=set(a)\n",
    "print(b)"
   ]
  },
  {
   "cell_type": "code",
   "execution_count": null,
   "id": "f1619282",
   "metadata": {},
   "outputs": [],
   "source": [
    "a=[1,2,3,3,4,4,5]\n",
    "b=list(dict.fromkeys(a))\n",
    "print(b)"
   ]
  },
  {
   "cell_type": "code",
   "execution_count": 56,
   "id": "b73f1ab9",
   "metadata": {},
   "outputs": [
    {
     "name": "stdout",
     "output_type": "stream",
     "text": [
      "[1, 2, 3, 4, 5]\n"
     ]
    }
   ],
   "source": [
    "a=[1,2,3,3,4,4,5]\n",
    "b=[]\n",
    "for i in a:\n",
    "    if i not in b:\n",
    "        b.append(i)\n",
    "print(b)"
   ]
  },
  {
   "cell_type": "code",
   "execution_count": 57,
   "id": "1f20769c",
   "metadata": {},
   "outputs": [
    {
     "name": "stdout",
     "output_type": "stream",
     "text": [
      "[1, 2, 3, 4]\n"
     ]
    }
   ],
   "source": [
    "a=[1,2]\n",
    "b=[3,4]\n",
    "for i in b:\n",
    "    if i not in a:\n",
    "        a.append(i)\n",
    "print(a)"
   ]
  },
  {
   "cell_type": "code",
   "execution_count": 58,
   "id": "c297684e",
   "metadata": {},
   "outputs": [
    {
     "name": "stdout",
     "output_type": "stream",
     "text": [
      "[1, 2, 3, 4, 5, 6, 8]\n"
     ]
    }
   ],
   "source": [
    "a=[1,2,3,4,5]\n",
    "b=[3,4,5,6,8]\n",
    "c=[]\n",
    "for i in a:\n",
    "    if i not in c:\n",
    "        c.append(i)\n",
    "for j in b:\n",
    "    if j not in c:\n",
    "        c.append(j)\n",
    "print(c)"
   ]
  },
  {
   "cell_type": "code",
   "execution_count": 59,
   "id": "e150f5e7",
   "metadata": {},
   "outputs": [
    {
     "name": "stdout",
     "output_type": "stream",
     "text": [
      "[1, 2, 3] [4, 5, 6]\n"
     ]
    }
   ],
   "source": [
    "def split_list(a_list):\n",
    "    half = len(a_list)//2\n",
    "    return a_list[:half], a_list[half:]\n",
    "A = [1,2,3,4,5,6]\n",
    "B, C = split_list(A)\n",
    "print(B,C)"
   ]
  },
  {
   "cell_type": "code",
   "execution_count": null,
   "id": "78b6ae51",
   "metadata": {},
   "outputs": [],
   "source": [
    "## To separate one list into two lists  [1, 2, 3] [4, 5, 6] ##\n",
    "import numpy as np\n",
    "my_list = [1,2,3,4,5,6,7,8,9,10]\n",
    "print(np.array_split(my_list, 2))"
   ]
  },
  {
   "cell_type": "code",
   "execution_count": 61,
   "id": "da333d8c",
   "metadata": {},
   "outputs": [
    {
     "name": "stdout",
     "output_type": "stream",
     "text": [
      "True\n",
      "True\n",
      "False\n"
     ]
    }
   ],
   "source": [
    "def is_Power_of_three(n):\n",
    "    while (n % 3 == 0):\n",
    "         n /= 3;         \n",
    "    return n == 1;\n",
    "\n",
    "print(is_Power_of_three(9))\n",
    "print(is_Power_of_three(81))\n",
    "print(is_Power_of_three(21))"
   ]
  },
  {
   "cell_type": "code",
   "execution_count": 66,
   "id": "87ed4175",
   "metadata": {},
   "outputs": [
    {
     "name": "stdout",
     "output_type": "stream",
     "text": [
      "{'hari': 1, 'dita': 4}\n"
     ]
    }
   ],
   "source": [
    "dict = {'hari': 1, 'dita': 2}\n",
    "dict['dita'] = 4\n",
    "print(dict)"
   ]
  },
  {
   "cell_type": "code",
   "execution_count": 22,
   "id": "71352aff",
   "metadata": {},
   "outputs": [
    {
     "name": "stdout",
     "output_type": "stream",
     "text": [
      "True\n"
     ]
    }
   ],
   "source": [
    "def fun(n):\n",
    "    while (n % 3 == 0):\n",
    "         n /= 3;         \n",
    "    return n == 1;\n",
    "n=81\n",
    "\n",
    "print(fun(n))\n"
   ]
  },
  {
   "cell_type": "code",
   "execution_count": 1,
   "id": "d1dc1fea",
   "metadata": {},
   "outputs": [
    {
     "name": "stdout",
     "output_type": "stream",
     "text": [
      "e\n",
      "o\n",
      "a\n",
      "a\n",
      "e\n"
     ]
    }
   ],
   "source": [
    "name=\"errolla mahesh\"\n",
    "for i in name:\n",
    "    if i in 'aeiou':\n",
    "        print(i)"
   ]
  },
  {
   "cell_type": "code",
   "execution_count": 2,
   "id": "1e88843f",
   "metadata": {},
   "outputs": [
    {
     "name": "stdout",
     "output_type": "stream",
     "text": [
      "{1, 2, 3, 4}\n"
     ]
    }
   ],
   "source": [
    "a=[1,2,3,3,4]\n",
    "print(set(a))"
   ]
  },
  {
   "cell_type": "code",
   "execution_count": 3,
   "id": "11a33486",
   "metadata": {},
   "outputs": [
    {
     "name": "stdout",
     "output_type": "stream",
     "text": [
      "[1, 2, 3, 4]\n"
     ]
    }
   ],
   "source": [
    "a=[1,2,3,3,4]\n",
    "b=[]\n",
    "for i in a:\n",
    "    if i not in b:\n",
    "        b.append(i)\n",
    "print(b)        "
   ]
  },
  {
   "cell_type": "code",
   "execution_count": null,
   "id": "7a5822e7",
   "metadata": {},
   "outputs": [],
   "source": [
    "dict1={1:2,\"adic\" : {\"key\":\"val\"},\"role\":\"sse\"}\n",
    "for key in dict1.keys():\n",
    "    if key == \"adic\":\n",
    "        print(key)\n"
   ]
  },
  {
   "cell_type": "code",
   "execution_count": null,
   "id": "ecb06f7f",
   "metadata": {},
   "outputs": [],
   "source": []
  }
 ],
 "metadata": {
  "kernelspec": {
   "display_name": "Python 3 (ipykernel)",
   "language": "python",
   "name": "python3"
  },
  "language_info": {
   "codemirror_mode": {
    "name": "ipython",
    "version": 3
   },
   "file_extension": ".py",
   "mimetype": "text/x-python",
   "name": "python",
   "nbconvert_exporter": "python",
   "pygments_lexer": "ipython3",
   "version": "3.11.1"
  }
 },
 "nbformat": 4,
 "nbformat_minor": 5
}
